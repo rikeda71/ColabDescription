{
  "nbformat": 4,
  "nbformat_minor": 0,
  "metadata": {
    "colab": {
      "name": "ColabDescription.ipynb",
      "version": "0.3.2",
      "provenance": [],
      "private_outputs": true,
      "collapsed_sections": []
    },
    "kernelspec": {
      "name": "python3",
      "display_name": "Python 3"
    },
    "accelerator": "GPU"
  },
  "cells": [
    {
      "cell_type": "markdown",
      "metadata": {
        "id": "view-in-github",
        "colab_type": "text"
      },
      "source": [
        "[View in Colaboratory](https://colab.research.google.com/github/s14t284/ColabDescription/blob/master/ColabDescription.ipynb)"
      ]
    },
    {
      "metadata": {
        "id": "rjMutvYtdOiv",
        "colab_type": "text"
      },
      "cell_type": "markdown",
      "source": [
        "# Google Colaboratory 勉強用ノート"
      ]
    },
    {
      "metadata": {
        "id": "zBDlMxYbdli9",
        "colab_type": "text"
      },
      "cell_type": "markdown",
      "source": [
        "シェルスクリプトは以下のように実行できる"
      ]
    },
    {
      "metadata": {
        "id": "15dgpwNOd-YU",
        "colab_type": "code",
        "colab": {}
      },
      "cell_type": "code",
      "source": [
        "!pwd"
      ],
      "execution_count": 0,
      "outputs": []
    },
    {
      "metadata": {
        "id": "4s0JA5FZeu4Y",
        "colab_type": "text"
      },
      "cell_type": "markdown",
      "source": [
        "ディレクトリ変更をしたい場合はこっちで実行する"
      ]
    },
    {
      "metadata": {
        "id": "tMiJ-RbpdFUA",
        "colab_type": "code",
        "colab": {}
      },
      "cell_type": "code",
      "source": [
        "%cd datalab/"
      ],
      "execution_count": 0,
      "outputs": []
    },
    {
      "metadata": {
        "id": "SMHV8mtSdv4l",
        "colab_type": "code",
        "colab": {}
      },
      "cell_type": "code",
      "source": [
        "!pwd"
      ],
      "execution_count": 0,
      "outputs": []
    },
    {
      "metadata": {
        "id": "Fn3yY4iPfBBf",
        "colab_type": "text"
      },
      "cell_type": "markdown",
      "source": [
        "## シャットダウンのルールについて\n",
        "以下の条件で90分が経過するとシャットダウンされる\n",
        "* ブラウザを閉じる\n",
        "* PCがスリープに入るなどしてノートブックのセッションが切れる\n",
        "\n",
        "以下の条件で強制的にシャットダウンされる\n",
        "* インスタンスの起動から（ノートブックを立ち上げて）12時間経過\n",
        "\n",
        "強制的にシャットダウンされるまでの時間は以下のコマンドをセルから実行することで確認可能\n",
        "\n",
        "0.5days = 12hour なのでそれを超えるとすぐにシャットダウンされると考える"
      ]
    },
    {
      "metadata": {
        "id": "lK_4Lj2ke4Gw",
        "colab_type": "code",
        "colab": {}
      },
      "cell_type": "code",
      "source": [
        "!cat /proc/uptime | awk '{print $1 /60 /60 /24 \"days (\" $1 \"sec)\"}'"
      ],
      "execution_count": 0,
      "outputs": []
    },
    {
      "metadata": {
        "id": "KS3iSMN6gbvy",
        "colab_type": "text"
      },
      "cell_type": "markdown",
      "source": [
        "## 残りのディスクスペースとメモリの確認\n",
        "以下のコマンドで確認できる"
      ]
    },
    {
      "metadata": {
        "id": "h9jSTBolgaBS",
        "colab_type": "code",
        "colab": {}
      },
      "cell_type": "code",
      "source": [
        "!df -h"
      ],
      "execution_count": 0,
      "outputs": []
    },
    {
      "metadata": {
        "id": "L9O4Nk6kg0dI",
        "colab_type": "text"
      },
      "cell_type": "markdown",
      "source": [
        "## インスタンスへのファイル読み込みと退避\n",
        "以下を実行する"
      ]
    },
    {
      "metadata": {
        "id": "qk7ZcJQChfGV",
        "colab_type": "code",
        "colab": {}
      },
      "cell_type": "code",
      "source": [
        "from google.colab import files"
      ],
      "execution_count": 0,
      "outputs": []
    },
    {
      "metadata": {
        "id": "Ty5qrKpyglYJ",
        "colab_type": "code",
        "colab": {}
      },
      "cell_type": "code",
      "source": [
        "#@title アップロード\n",
        "uploaded = files.upload()"
      ],
      "execution_count": 0,
      "outputs": []
    },
    {
      "metadata": {
        "id": "dpSrPukKg6zY",
        "colab_type": "code",
        "colab": {}
      },
      "cell_type": "code",
      "source": [
        "#@title ダウンロード\n",
        "!echo \"downloaddddd\" > download.txt\n",
        "files.download(\"download.txt\")"
      ],
      "execution_count": 0,
      "outputs": []
    },
    {
      "metadata": {
        "id": "88fBKVRbjShG",
        "colab_type": "code",
        "colab": {}
      },
      "cell_type": "code",
      "source": [
        "#@title GoogleDriveへ保存（前準備）\n",
        "# google-drive-ocamlfuseのインストール\n",
        "# https://github.com/astrada/google-drive-ocamlfuse\n",
        "!apt-get install -y -qq software-properties-common python-software-properties module-init-tools\n",
        "!add-apt-repository -y ppa:alessandro-strada/ppa 2>&1 > /dev/null\n",
        "!apt-get update -qq 2>&1 > /dev/null\n",
        "!apt-get -y install -qq google-drive-ocamlfuse fuse\n",
        "\n",
        "# Colab用のAuth token作成\n",
        "from google.colab import auth\n",
        "auth.authenticate_user()\n",
        "\n",
        "# Drive FUSE library用のcredential生成\n",
        "from oauth2client.client import GoogleCredentials\n",
        "creds = GoogleCredentials.get_application_default()\n",
        "import getpass\n",
        "!google-drive-ocamlfuse -headless -id={creds.client_id} -secret={creds.client_secret} < /dev/null 2>&1 | grep URL\n",
        "vcode = getpass.getpass()\n",
        "!echo {vcode} | google-drive-ocamlfuse -headless -id={creds.client_id} -secret={creds.client_secret}\n",
        "\n",
        "# drive/ を作り、そこにGoogle Driveをマウントする\n",
        "!mkdir -p ~/drive\n",
        "!google-drive-ocamlfuse ~/drive"
      ],
      "execution_count": 0,
      "outputs": []
    },
    {
      "metadata": {
        "id": "76yyEIychoGV",
        "colab_type": "code",
        "colab": {}
      },
      "cell_type": "code",
      "source": [
        "#@title GoogleDriveへ保存\n",
        "!ls ~/drive/\n",
        "!cp download.txt ~/drive/"
      ],
      "execution_count": 0,
      "outputs": []
    },
    {
      "metadata": {
        "id": "pDnQvpSNikj6",
        "colab_type": "code",
        "colab": {}
      },
      "cell_type": "code",
      "source": [
        "#@title GoogleDriveの空き容量の確認\n",
        "!df -h ~/drive/"
      ],
      "execution_count": 0,
      "outputs": []
    },
    {
      "metadata": {
        "id": "BbxhnnkilxWP",
        "colab_type": "text"
      },
      "cell_type": "markdown",
      "source": [
        "## Chainerのインストール\n",
        "1. notebookの設定を変更する\n",
        "  * Runtime -> Change runtime type -> Runtime type -> python3\n",
        "  * Runtime -> Change runtime type -> Hardware accelerator -> GPU\n",
        "2. 以下のコマンドを実行する"
      ]
    },
    {
      "metadata": {
        "id": "CkDN-ERalBjR",
        "colab_type": "code",
        "colab": {}
      },
      "cell_type": "code",
      "source": [
        "!apt -y install libcusparse8.0 libnvrtc8.0 libnvtoolsext1\n",
        "!ln -snf /usr/lib/x86_64-linux-gnu/libnvrtc-builtins.so.8.0 /usr/lib/x86_64-linux-gnu/libnvrtc-builtins.so\n",
        "!pip install cupy-cuda80 chainer"
      ],
      "execution_count": 0,
      "outputs": []
    },
    {
      "metadata": {
        "id": "zqFZCHytmrd9",
        "colab_type": "code",
        "colab": {}
      },
      "cell_type": "code",
      "source": [
        ""
      ],
      "execution_count": 0,
      "outputs": []
    }
  ]
}